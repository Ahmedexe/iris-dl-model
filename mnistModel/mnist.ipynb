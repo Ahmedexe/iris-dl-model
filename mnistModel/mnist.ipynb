{
 "cells": [
  {
   "cell_type": "code",
   "execution_count": 2,
   "metadata": {},
   "outputs": [],
   "source": [
    "import torch \n",
    "import torch.nn as nn\n",
    "import torch.nn.functional as F\n",
    "from torch.utils.data import DataLoader\n",
    "from torchvision import datasets, transforms"
   ]
  },
  {
   "cell_type": "code",
   "execution_count": 4,
   "metadata": {},
   "outputs": [
    {
     "name": "stdout",
     "output_type": "stream",
     "text": [
      "Downloading http://yann.lecun.com/exdb/mnist/train-images-idx3-ubyte.gz\n",
      "Failed to download (trying next):\n",
      "HTTP Error 403: Forbidden\n",
      "\n",
      "Downloading https://ossci-datasets.s3.amazonaws.com/mnist/train-images-idx3-ubyte.gz\n",
      "Downloading https://ossci-datasets.s3.amazonaws.com/mnist/train-images-idx3-ubyte.gz to D:\\Programming Files\\pytorch\\mnistModel\\mnistData\\MNIST\\raw\\train-images-idx3-ubyte.gz\n"
     ]
    },
    {
     "name": "stderr",
     "output_type": "stream",
     "text": [
      "100.0%\n"
     ]
    },
    {
     "name": "stdout",
     "output_type": "stream",
     "text": [
      "Extracting D:\\Programming Files\\pytorch\\mnistModel\\mnistData\\MNIST\\raw\\train-images-idx3-ubyte.gz to D:\\Programming Files\\pytorch\\mnistModel\\mnistData\\MNIST\\raw\n",
      "\n",
      "Downloading http://yann.lecun.com/exdb/mnist/train-labels-idx1-ubyte.gz\n",
      "Failed to download (trying next):\n",
      "HTTP Error 403: Forbidden\n",
      "\n",
      "Downloading https://ossci-datasets.s3.amazonaws.com/mnist/train-labels-idx1-ubyte.gz\n",
      "Downloading https://ossci-datasets.s3.amazonaws.com/mnist/train-labels-idx1-ubyte.gz to D:\\Programming Files\\pytorch\\mnistModel\\mnistData\\MNIST\\raw\\train-labels-idx1-ubyte.gz\n"
     ]
    },
    {
     "name": "stderr",
     "output_type": "stream",
     "text": [
      "100.0%\n"
     ]
    },
    {
     "name": "stdout",
     "output_type": "stream",
     "text": [
      "Extracting D:\\Programming Files\\pytorch\\mnistModel\\mnistData\\MNIST\\raw\\train-labels-idx1-ubyte.gz to D:\\Programming Files\\pytorch\\mnistModel\\mnistData\\MNIST\\raw\n",
      "\n",
      "Downloading http://yann.lecun.com/exdb/mnist/t10k-images-idx3-ubyte.gz\n",
      "Failed to download (trying next):\n",
      "HTTP Error 403: Forbidden\n",
      "\n",
      "Downloading https://ossci-datasets.s3.amazonaws.com/mnist/t10k-images-idx3-ubyte.gz\n",
      "Downloading https://ossci-datasets.s3.amazonaws.com/mnist/t10k-images-idx3-ubyte.gz to D:\\Programming Files\\pytorch\\mnistModel\\mnistData\\MNIST\\raw\\t10k-images-idx3-ubyte.gz\n"
     ]
    },
    {
     "name": "stderr",
     "output_type": "stream",
     "text": [
      "100.0%\n"
     ]
    },
    {
     "name": "stdout",
     "output_type": "stream",
     "text": [
      "Extracting D:\\Programming Files\\pytorch\\mnistModel\\mnistData\\MNIST\\raw\\t10k-images-idx3-ubyte.gz to D:\\Programming Files\\pytorch\\mnistModel\\mnistData\\MNIST\\raw\n",
      "\n",
      "Downloading http://yann.lecun.com/exdb/mnist/t10k-labels-idx1-ubyte.gz\n",
      "Failed to download (trying next):\n",
      "HTTP Error 403: Forbidden\n",
      "\n",
      "Downloading https://ossci-datasets.s3.amazonaws.com/mnist/t10k-labels-idx1-ubyte.gz\n",
      "Downloading https://ossci-datasets.s3.amazonaws.com/mnist/t10k-labels-idx1-ubyte.gz to D:\\Programming Files\\pytorch\\mnistModel\\mnistData\\MNIST\\raw\\t10k-labels-idx1-ubyte.gz\n"
     ]
    },
    {
     "name": "stderr",
     "output_type": "stream",
     "text": [
      "100.0%"
     ]
    },
    {
     "name": "stdout",
     "output_type": "stream",
     "text": [
      "Extracting D:\\Programming Files\\pytorch\\mnistModel\\mnistData\\MNIST\\raw\\t10k-labels-idx1-ubyte.gz to D:\\Programming Files\\pytorch\\mnistModel\\mnistData\\MNIST\\raw\n",
      "\n"
     ]
    },
    {
     "name": "stderr",
     "output_type": "stream",
     "text": [
      "\n"
     ]
    }
   ],
   "source": [
    "transform = transforms.ToTensor()\n",
    "\n",
    "# Train data\n",
    "trainData = datasets.MNIST(root= \"D:\\Programming Files\\pytorch\\mnistModel\\mnistData\", train=True, download=True, transform=transform)"
   ]
  },
  {
   "cell_type": "code",
   "execution_count": 5,
   "metadata": {},
   "outputs": [],
   "source": [
    "testData = datasets.MNIST(root=\"D:\\Programming Files\\pytorch\\mnistModel\\mnistData\", train=False, download=True, transform=transform)"
   ]
  },
  {
   "cell_type": "code",
   "execution_count": 7,
   "metadata": {},
   "outputs": [],
   "source": [
    "train_loader = DataLoader(trainData, batch_size=8, shuffle=True)\n",
    "test_loader = DataLoader(testData, batch_size=8, shuffle=True)"
   ]
  },
  {
   "cell_type": "code",
   "execution_count": 12,
   "metadata": {},
   "outputs": [],
   "source": [
    "for i, (x_train, y_train) in enumerate(trainData):\n",
    "  break"
   ]
  },
  {
   "cell_type": "code",
   "execution_count": 25,
   "metadata": {},
   "outputs": [],
   "source": [
    "class CnnModel(nn.Module): \n",
    "    def __init__(self):\n",
    "        super().__init__()\n",
    "\n",
    "        ## define the layers themselves\n",
    "        self.conv1 = nn.Conv2d(1, 6, 3)\n",
    "        self.conv2 = nn.Conv2d(6, 12, 3)\n",
    "\n",
    "        # NN layers\n",
    "        self.fc1 = nn.Linear(12 * 12 * 12, 128)\n",
    "        self.fc2 = nn.Linear(128, 64)\n",
    "        self.out = nn.Linear(64, 10)\n",
    "\n",
    "    # forward prop algo method // create the sequence of layers\n",
    "    def forward(self, x) :\n",
    "        x = F.relu(self.conv1(x))\n",
    "        x = F.relu(self.conv2(x))\n",
    "\n",
    "        # maxPool\n",
    "        x = F.max_pool2d(x, 2, 2)\n",
    "\n",
    "        # flatten to feed into NN\n",
    "        x = x.view(-1, 12 * 12 * 12)\n",
    "\n",
    "        # feed into NN\n",
    "        x = F.relu(self.fc1(x))\n",
    "        x = F.relu(self.fc2(x))\n",
    "        x = self.out(x)\n",
    "\n",
    "        return F.log_softmax(x, dim=1)\n",
    "        \n",
    "\n"
   ]
  },
  {
   "cell_type": "code",
   "execution_count": 26,
   "metadata": {},
   "outputs": [
    {
     "data": {
      "text/plain": [
       "CnnModel(\n",
       "  (conv1): Conv2d(1, 6, kernel_size=(3, 3), stride=(1, 1))\n",
       "  (conv2): Conv2d(6, 12, kernel_size=(3, 3), stride=(1, 1))\n",
       "  (fc1): Linear(in_features=1728, out_features=128, bias=True)\n",
       "  (fc2): Linear(in_features=128, out_features=64, bias=True)\n",
       "  (out): Linear(in_features=64, out_features=10, bias=True)\n",
       ")"
      ]
     },
     "execution_count": 26,
     "metadata": {},
     "output_type": "execute_result"
    }
   ],
   "source": [
    "# define an instance of the model class\n",
    "model = CnnModel()\n",
    "model"
   ]
  },
  {
   "cell_type": "code",
   "execution_count": 27,
   "metadata": {},
   "outputs": [],
   "source": [
    "# cost function \n",
    "criterion = nn.CrossEntropyLoss()\n",
    "optimizer = torch.optim.Adam(model.parameters(), lr = 0.005)"
   ]
  },
  {
   "cell_type": "code",
   "execution_count": 29,
   "metadata": {},
   "outputs": [
    {
     "name": "stdout",
     "output_type": "stream",
     "text": [
      "0). loss: 0.11159402132034302\n",
      "300). loss: 0.0002237735316157341\n",
      "600). loss: 0.04957892373204231\n",
      "900). loss: 1.0229829549789429\n",
      "1200). loss: 0.011046098545193672\n",
      "1500). loss: 0.08050641417503357\n",
      "1800). loss: 0.11633673310279846\n",
      "2100). loss: 0.28090187907218933\n",
      "2400). loss: 0.6631134152412415\n",
      "2700). loss: 0.5438594222068787\n",
      "3000). loss: 0.00018029219063464552\n",
      "3300). loss: 4.328054274083115e-05\n",
      "3600). loss: 2.6374989374744473e-06\n",
      "3900). loss: 0.15817880630493164\n",
      "4200). loss: 0.0001536275231046602\n",
      "4500). loss: 0.26186996698379517\n",
      "4800). loss: 0.1165311336517334\n",
      "5100). loss: 0.036408036947250366\n",
      "5400). loss: 0.00041798781603574753\n",
      "5700). loss: 0.0006382163846865296\n",
      "6000). loss: 0.5155696272850037\n",
      "6300). loss: 0.041289106011390686\n",
      "6600). loss: 0.0010476013412699103\n",
      "6900). loss: 0.20858033001422882\n",
      "7200). loss: 0.013660164549946785\n",
      "0). loss: 0.03930680826306343\n",
      "300). loss: 0.00010883414506679401\n",
      "600). loss: 0.0002404199040029198\n",
      "900). loss: 0.0002499265829101205\n",
      "1200). loss: 0.0002513164945412427\n",
      "1500). loss: 0.40100833773612976\n",
      "1800). loss: 0.0015064345207065344\n",
      "2100). loss: 0.017899438738822937\n",
      "2400). loss: 0.0388738177716732\n",
      "2700). loss: 0.0010876430897042155\n",
      "3000). loss: 4.395769337861566e-06\n",
      "3300). loss: 0.0014587438199669123\n",
      "3600). loss: 0.06277822703123093\n",
      "3900). loss: 0.0001303341705352068\n",
      "4200). loss: 0.7397971749305725\n",
      "4500). loss: 0.0007851308328099549\n",
      "4800). loss: 0.0010671211639419198\n",
      "5100). loss: 0.0006863937014713883\n",
      "5400). loss: 0.3699485659599304\n",
      "5700). loss: 9.509302617516369e-05\n",
      "6000). loss: 0.6143086552619934\n",
      "6300). loss: 0.0003194097662344575\n",
      "6600). loss: 4.4546548451762646e-05\n",
      "6900). loss: 8.51865770528093e-05\n",
      "7200). loss: 1.4677387475967407\n",
      "0). loss: 0.0022485018707811832\n",
      "300). loss: 0.0002253222482977435\n",
      "600). loss: 4.243149669491686e-05\n",
      "900). loss: 0.000294656289042905\n",
      "1200). loss: 0.002347000176087022\n",
      "1500). loss: 0.013891004957258701\n",
      "1800). loss: 9.868147753877565e-05\n",
      "2100). loss: 1.0132748684554826e-06\n",
      "2400). loss: 5.371279257815331e-05\n",
      "2700). loss: 0.006598755717277527\n",
      "3000). loss: 0.00020777908503077924\n",
      "3300). loss: 0.02032015472650528\n",
      "3600). loss: 0.0010221087140962481\n",
      "3900). loss: 0.00019604177214205265\n",
      "4200). loss: 0.00016796727140899748\n",
      "4500). loss: 0.04932411015033722\n",
      "4800). loss: 0.0006399553967639804\n",
      "5100). loss: 0.00015301696839742362\n",
      "5400). loss: 0.0012056793784722686\n",
      "5700). loss: 0.001013834960758686\n",
      "6000). loss: 0.013095914386212826\n",
      "6300). loss: 0.00011859284859383479\n",
      "6600). loss: 0.03322319686412811\n",
      "6900). loss: 0.0010590458987280726\n",
      "7200). loss: 0.15798337757587433\n",
      "0). loss: 0.08322374522686005\n",
      "300). loss: 0.001781890750862658\n",
      "600). loss: 0.02820000983774662\n",
      "900). loss: 0.03057948686182499\n",
      "1200). loss: 0.05847525969147682\n",
      "1500). loss: 1.4752068864254397e-06\n",
      "1800). loss: 0.00026353413704782724\n",
      "2100). loss: 2.592779310361948e-06\n",
      "2400). loss: 1.9086975953541696e-05\n",
      "2700). loss: 0.10511694103479385\n",
      "3000). loss: 0.03686608374118805\n",
      "3300). loss: 0.4661039113998413\n",
      "3600). loss: 8.985102795122657e-06\n",
      "3900). loss: 0.006118676625192165\n",
      "4200). loss: 0.03241811692714691\n",
      "4500). loss: 6.468434003181756e-05\n",
      "4800). loss: 0.00014744477812200785\n",
      "5100). loss: 0.6720884442329407\n",
      "5400). loss: 0.00010726625623647124\n",
      "5700). loss: 1.2084280569979455e-05\n",
      "6000). loss: 0.00018041922885458916\n",
      "6300). loss: 0.0001041669020196423\n",
      "6600). loss: 1.010281266644597e-05\n",
      "6900). loss: 0.00011834363249363378\n",
      "7200). loss: 0.0006273550097830594\n",
      "0). loss: 0.0023997551761567593\n",
      "300). loss: 4.1166702430928126e-05\n",
      "600). loss: 0.0073938691057264805\n",
      "900). loss: 0.5765760540962219\n",
      "1200). loss: 0.0015885588945820928\n",
      "1500). loss: 8.431688911514357e-05\n",
      "1800). loss: 0.019438935443758965\n",
      "2100). loss: 0.002850160701200366\n",
      "2400). loss: 0.19139008224010468\n",
      "2700). loss: 0.025194445624947548\n",
      "3000). loss: 0.00011382812954252586\n",
      "3300). loss: 1.2516356036940124e-05\n",
      "3600). loss: 1.093702667276375e-05\n",
      "3900). loss: 0.058060262352228165\n",
      "4200). loss: 8.940664883994032e-07\n",
      "4500). loss: 0.002853565849363804\n",
      "4800). loss: 9.387378668179736e-06\n",
      "5100). loss: 0.00012573397543746978\n",
      "5400). loss: 2.156090340577066e-05\n",
      "5700). loss: 8.940695295223122e-08\n",
      "6000). loss: 0.1334933042526245\n",
      "6300). loss: 0.03582770749926567\n",
      "6600). loss: 0.00971020944416523\n",
      "6900). loss: 0.00038786581717431545\n",
      "7200). loss: 0.27328455448150635\n"
     ]
    }
   ],
   "source": [
    "# Train model\n",
    "\n",
    "for b in range(5):\n",
    "    for i, (x_train, y_train) in enumerate(train_loader):\n",
    "        \n",
    "        ## forward prop\n",
    "        y_pred = model.forward(x_train)\n",
    "\n",
    "        ## cost fun\n",
    "        loss = criterion(y_pred, y_train)\n",
    "\n",
    "        ## back prop\n",
    "        optimizer.zero_grad()\n",
    "        loss.backward()\n",
    "        optimizer.step()\n",
    "\n",
    "        if i % 300 == 0:\n",
    "            print(f'{i}). loss: {loss}')"
   ]
  },
  {
   "cell_type": "code",
   "execution_count": 32,
   "metadata": {},
   "outputs": [],
   "source": [
    "# loadTestEverything = DataLoader(testData, batch_size=10000, shuffle=True)\n",
    "\n",
    "with torch.no_grad() :\n",
    "    correct = 0\n",
    "    for x_test, y_test in testData:\n",
    "        y_val = model.forward(x_test)\n",
    "        predicted = torch.max(y_val, 1)[1]\n",
    "        correct += (predicted == y_test).sum()\n",
    "     "
   ]
  },
  {
   "cell_type": "code",
   "execution_count": 34,
   "metadata": {},
   "outputs": [
    {
     "data": {
      "text/plain": [
       "97.44"
      ]
     },
     "execution_count": 34,
     "metadata": {},
     "output_type": "execute_result"
    }
   ],
   "source": [
    "# Accuracy Calculation\n",
    "correct.item()/len(testData) * 100"
   ]
  },
  {
   "cell_type": "code",
   "execution_count": 41,
   "metadata": {},
   "outputs": [
    {
     "data": {
      "text/plain": [
       "<matplotlib.image.AxesImage at 0x21387a99410>"
      ]
     },
     "execution_count": 41,
     "metadata": {},
     "output_type": "execute_result"
    },
    {
     "data": {
      "image/png": "[encoded data removed]",
      "text/plain": [
       "<Figure size 640x480 with 1 Axes>"
      ]
     },
     "metadata": {},
     "output_type": "display_data"
    }
   ],
   "source": [
    "import matplotlib.pyplot as plt\n",
    "plt.imshow(testData[1298][0].reshape(28,28))"
   ]
  },
  {
   "cell_type": "code",
   "execution_count": 49,
   "metadata": {},
   "outputs": [
    {
     "data": {
      "text/plain": [
       "tensor(3)"
      ]
     },
     "execution_count": 49,
     "metadata": {},
     "output_type": "execute_result"
    }
   ],
   "source": [
    "# get the model predection \n",
    "with torch.no_grad():\n",
    "    pred = model.forward(testData[1298][0])\n",
    "\n",
    "pred.argmax()"
   ]
  }
 ],
 "metadata": {
  "kernelspec": {
   "display_name": ".venv",
   "language": "python",
   "name": "python3"
  },
  "language_info": {
   "codemirror_mode": {
    "name": "ipython",
    "version": 3
   },
   "file_extension": ".py",
   "mimetype": "text/x-python",
   "name": "python",
   "nbconvert_exporter": "python",
   "pygments_lexer": "ipython3",
   "version": "3.11.1"
  }
 },
 "nbformat": 4,
 "nbformat_minor": 2
}
