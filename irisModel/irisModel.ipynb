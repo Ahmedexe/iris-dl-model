{
 "cells": [
  {
   "cell_type": "code",
   "execution_count": 282,
   "metadata": {},
   "outputs": [],
   "source": [
    "import torch\n",
    "import torch.nn as nn\n",
    "import torch.nn.functional as F"
   ]
  },
  {
   "cell_type": "code",
   "execution_count": 283,
   "metadata": {},
   "outputs": [],
   "source": [
    "\n",
    "class Model(nn.Module):\n",
    "\n",
    "    def __init__(self, in_features = 4, h1 = 8, h2 = 8, out_features = 3):\n",
    "        super().__init__()\n",
    "        self.fc1 = nn.Linear(in_features, h1)\n",
    "        self.fc2 = nn.Linear(h1 , h2)\n",
    "        self.out = nn.Linear(h2, out_features)\n",
    "\n",
    "    def forward(self, x) :\n",
    "        x = F.relu(self.fc1(x))\n",
    "        x = F.relu(self.fc2(x))\n",
    "        x = self.out(x)\n",
    "\n",
    "        return x\n",
    "    "
   ]
  },
  {
   "cell_type": "code",
   "execution_count": 284,
   "metadata": {},
   "outputs": [],
   "source": [
    "# torch.manual_seed(41)\n",
    "model = Model()"
   ]
  },
  {
   "cell_type": "code",
   "execution_count": 285,
   "metadata": {},
   "outputs": [],
   "source": [
    "import matplotlib.pyplot as plt\n",
    "import pandas as pd"
   ]
  },
  {
   "cell_type": "code",
   "execution_count": 286,
   "metadata": {},
   "outputs": [
    {
     "data": {
      "text/html": [
       "<div>\n",
       "<style scoped>\n",
       "    .dataframe tbody tr th:only-of-type {\n",
       "        vertical-align: middle;\n",
       "    }\n",
       "\n",
       "    .dataframe tbody tr th {\n",
       "        vertical-align: top;\n",
       "    }\n",
       "\n",
       "    .dataframe thead th {\n",
       "        text-align: right;\n",
       "    }\n",
       "</style>\n",
       "<table border=\"1\" class=\"dataframe\">\n",
       "  <thead>\n",
       "    <tr style=\"text-align: right;\">\n",
       "      <th></th>\n",
       "      <th>sepal_length</th>\n",
       "      <th>sepal_width</th>\n",
       "      <th>petal_length</th>\n",
       "      <th>petal_width</th>\n",
       "      <th>species</th>\n",
       "    </tr>\n",
       "  </thead>\n",
       "  <tbody>\n",
       "    <tr>\n",
       "      <th>0</th>\n",
       "      <td>5.1</td>\n",
       "      <td>3.5</td>\n",
       "      <td>1.4</td>\n",
       "      <td>0.2</td>\n",
       "      <td>setosa</td>\n",
       "    </tr>\n",
       "    <tr>\n",
       "      <th>1</th>\n",
       "      <td>4.9</td>\n",
       "      <td>3.0</td>\n",
       "      <td>1.4</td>\n",
       "      <td>0.2</td>\n",
       "      <td>setosa</td>\n",
       "    </tr>\n",
       "    <tr>\n",
       "      <th>2</th>\n",
       "      <td>4.7</td>\n",
       "      <td>3.2</td>\n",
       "      <td>1.3</td>\n",
       "      <td>0.2</td>\n",
       "      <td>setosa</td>\n",
       "    </tr>\n",
       "    <tr>\n",
       "      <th>3</th>\n",
       "      <td>4.6</td>\n",
       "      <td>3.1</td>\n",
       "      <td>1.5</td>\n",
       "      <td>0.2</td>\n",
       "      <td>setosa</td>\n",
       "    </tr>\n",
       "    <tr>\n",
       "      <th>4</th>\n",
       "      <td>5.0</td>\n",
       "      <td>3.6</td>\n",
       "      <td>1.4</td>\n",
       "      <td>0.2</td>\n",
       "      <td>setosa</td>\n",
       "    </tr>\n",
       "    <tr>\n",
       "      <th>...</th>\n",
       "      <td>...</td>\n",
       "      <td>...</td>\n",
       "      <td>...</td>\n",
       "      <td>...</td>\n",
       "      <td>...</td>\n",
       "    </tr>\n",
       "    <tr>\n",
       "      <th>145</th>\n",
       "      <td>6.7</td>\n",
       "      <td>3.0</td>\n",
       "      <td>5.2</td>\n",
       "      <td>2.3</td>\n",
       "      <td>virginica</td>\n",
       "    </tr>\n",
       "    <tr>\n",
       "      <th>146</th>\n",
       "      <td>6.3</td>\n",
       "      <td>2.5</td>\n",
       "      <td>5.0</td>\n",
       "      <td>1.9</td>\n",
       "      <td>virginica</td>\n",
       "    </tr>\n",
       "    <tr>\n",
       "      <th>147</th>\n",
       "      <td>6.5</td>\n",
       "      <td>3.0</td>\n",
       "      <td>5.2</td>\n",
       "      <td>2.0</td>\n",
       "      <td>virginica</td>\n",
       "    </tr>\n",
       "    <tr>\n",
       "      <th>148</th>\n",
       "      <td>6.2</td>\n",
       "      <td>3.4</td>\n",
       "      <td>5.4</td>\n",
       "      <td>2.3</td>\n",
       "      <td>virginica</td>\n",
       "    </tr>\n",
       "    <tr>\n",
       "      <th>149</th>\n",
       "      <td>5.9</td>\n",
       "      <td>3.0</td>\n",
       "      <td>5.1</td>\n",
       "      <td>1.8</td>\n",
       "      <td>virginica</td>\n",
       "    </tr>\n",
       "  </tbody>\n",
       "</table>\n",
       "<p>150 rows × 5 columns</p>\n",
       "</div>"
      ],
      "text/plain": [
       "     sepal_length  sepal_width  petal_length  petal_width    species\n",
       "0             5.1          3.5           1.4          0.2     setosa\n",
       "1             4.9          3.0           1.4          0.2     setosa\n",
       "2             4.7          3.2           1.3          0.2     setosa\n",
       "3             4.6          3.1           1.5          0.2     setosa\n",
       "4             5.0          3.6           1.4          0.2     setosa\n",
       "..            ...          ...           ...          ...        ...\n",
       "145           6.7          3.0           5.2          2.3  virginica\n",
       "146           6.3          2.5           5.0          1.9  virginica\n",
       "147           6.5          3.0           5.2          2.0  virginica\n",
       "148           6.2          3.4           5.4          2.3  virginica\n",
       "149           5.9          3.0           5.1          1.8  virginica\n",
       "\n",
       "[150 rows x 5 columns]"
      ]
     },
     "execution_count": 286,
     "metadata": {},
     "output_type": "execute_result"
    }
   ],
   "source": [
    "df = pd.read_csv(\"irisDataset/iris.csv\")\n",
    "df"
   ]
  },
  {
   "cell_type": "code",
   "execution_count": 287,
   "metadata": {},
   "outputs": [
    {
     "name": "stderr",
     "output_type": "stream",
     "text": [
      "C:\\Users\\izuha\\AppData\\Local\\Temp\\ipykernel_16656\\2289834928.py:4: FutureWarning: Downcasting behavior in `replace` is deprecated and will be removed in a future version. To retain the old behavior, explicitly call `result.infer_objects(copy=False)`. To opt-in to the future behavior, set `pd.set_option('future.no_silent_downcasting', True)`\n",
      "  df[\"species\"] = df[\"species\"].replace(\"virginica\", 2.0)\n"
     ]
    }
   ],
   "source": [
    "# Cleansing\n",
    "df[\"species\"] = df[\"species\"].replace(\"setosa\", 0.0)\n",
    "df[\"species\"] = df[\"species\"].replace(\"versicolor\", 1.0)\n",
    "df[\"species\"] = df[\"species\"].replace(\"virginica\", 2.0)"
   ]
  },
  {
   "cell_type": "code",
   "execution_count": 288,
   "metadata": {},
   "outputs": [],
   "source": [
    "x = df.drop(\"species\", axis=1)\n",
    "y = df[\"species\"]\n",
    "\n",
    "# convert to numpy arr\n",
    "x = x.values \n",
    "y = y.values\n"
   ]
  },
  {
   "cell_type": "code",
   "execution_count": 289,
   "metadata": {},
   "outputs": [
    {
     "data": {
      "text/plain": [
       "array([0., 2., 1., 0., 0., 0., 1., 2., 2., 0., 0., 0., 2., 1., 0., 1., 1.,\n",
       "       0., 1., 1., 0., 1., 2., 1., 2., 1., 2., 1., 2., 2.])"
      ]
     },
     "execution_count": 289,
     "metadata": {},
     "output_type": "execute_result"
    }
   ],
   "source": [
    "from sklearn.model_selection import train_test_split\n",
    "\n",
    "x_train , x_test  , y_train , y_test = train_test_split(x, y, test_size= 0.2)\n",
    "y_test"
   ]
  },
  {
   "cell_type": "code",
   "execution_count": 290,
   "metadata": {},
   "outputs": [],
   "source": [
    "#  convert to tensors\n",
    "y_train = torch.LongTensor(y_train)\n",
    "y_test = torch.LongTensor(y_test)\n",
    "\n",
    "x_train = torch.FloatTensor(x_train)\n",
    "x_test = torch.FloatTensor(x_test)"
   ]
  },
  {
   "cell_type": "code",
   "execution_count": 291,
   "metadata": {},
   "outputs": [],
   "source": [
    "criterion = nn.CrossEntropyLoss()\n",
    "\n",
    "optimizer = torch.optim.Adam(model.parameters() , lr = 0.01)"
   ]
  },
  {
   "cell_type": "code",
   "execution_count": 292,
   "metadata": {},
   "outputs": [
    {
     "name": "stdout",
     "output_type": "stream",
     "text": [
      "Epoch: 0 and loss: 1.1746485233306885\n",
      "Epoch: 10 and loss: 0.9042167663574219\n",
      "Epoch: 20 and loss: 0.6416109800338745\n",
      "Epoch: 30 and loss: 0.45082515478134155\n",
      "Epoch: 40 and loss: 0.3310324251651764\n",
      "Epoch: 50 and loss: 0.2283850610256195\n",
      "Epoch: 60 and loss: 0.14799997210502625\n",
      "Epoch: 70 and loss: 0.10181091725826263\n",
      "Epoch: 80 and loss: 0.07862813770771027\n",
      "Epoch: 90 and loss: 0.0663895383477211\n",
      "Epoch: 100 and loss: 0.059065598994493484\n",
      "Epoch: 110 and loss: 0.05414421111345291\n",
      "Epoch: 120 and loss: 0.050545983016490936\n",
      "Epoch: 130 and loss: 0.04773951321840286\n",
      "Epoch: 140 and loss: 0.04543866589665413\n",
      "Epoch: 150 and loss: 0.04347122460603714\n",
      "Epoch: 160 and loss: 0.04172907769680023\n",
      "Epoch: 170 and loss: 0.04014469310641289\n",
      "Epoch: 180 and loss: 0.03867434710264206\n",
      "Epoch: 190 and loss: 0.037288833409547806\n"
     ]
    }
   ],
   "source": [
    "## Train model \n",
    "\n",
    "epochs = 200\n",
    "losses = []\n",
    "for i in range(epochs):\n",
    "\n",
    "    # forward prop\n",
    "    y_pred = model.forward(x_train)\n",
    "\n",
    "    # cose fun\n",
    "    loss = criterion(y_pred, y_train)\n",
    "\n",
    "    if i % 10 == 0 : \n",
    "        print(f'Epoch: {i} and loss: {loss}')\n",
    "    \n",
    "    # back prop\n",
    "    optimizer.zero_grad()\n",
    "    loss.backward() \n",
    "    optimizer.step()"
   ]
  },
  {
   "cell_type": "code",
   "execution_count": 293,
   "metadata": {},
   "outputs": [
    {
     "name": "stdout",
     "output_type": "stream",
     "text": [
      "0.) tensor([ 13.4341,   5.3504, -25.0590]) \t 0 \t 0\n",
      "1.) tensor([-6.9476,  3.2391,  1.0860]) \t 1 \t 2\n",
      "2.) tensor([-7.0858,  3.3408,  1.0492]) \t 1 \t 1\n",
      "3.) tensor([ 15.3011,   5.8016, -28.1605]) \t 0 \t 0\n",
      "4.) tensor([ 14.0769,   5.3099, -25.8587]) \t 0 \t 0\n",
      "5.) tensor([ 13.7596,   5.3401, -25.4619]) \t 0 \t 0\n",
      "6.) tensor([-2.0040,  5.7513, -7.4105]) \t 1 \t 1\n",
      "7.) tensor([-11.8764,   1.2195,   8.7565]) \t 2 \t 2\n",
      "8.) tensor([-9.3632,  1.2569,  6.4711]) \t 2 \t 2\n",
      "9.) tensor([ 11.0133,   5.0252, -21.5401]) \t 0 \t 0\n",
      "10.) tensor([ 15.2004,   5.5166, -27.6601]) \t 0 \t 0\n",
      "11.) tensor([ 16.5806,   5.7375, -29.8342]) \t 0 \t 0\n",
      "12.) tensor([-11.6651,  -0.1678,  10.4124]) \t 2 \t 2\n",
      "13.) tensor([-4.1331,  3.7592, -2.3319]) \t 1 \t 1\n",
      "14.) tensor([ 16.5027,   5.8291, -29.8453]) \t 0 \t 0\n",
      "15.) tensor([-3.7788,  5.6207, -5.6018]) \t 1 \t 1\n",
      "16.) tensor([-4.1752,  4.2990, -3.1412]) \t 1 \t 1\n",
      "17.) tensor([ 16.2802,   5.5709, -29.2090]) \t 0 \t 0\n",
      "18.) tensor([-4.5324,  3.9003, -2.1505]) \t 1 \t 1\n",
      "19.) tensor([-3.2357,  5.1461, -5.3305]) \t 1 \t 1\n",
      "20.) tensor([ 13.5739,   5.2507, -25.0940]) \t 0 \t 0\n",
      "21.) tensor([-3.3001,  4.8541, -4.8469]) \t 1 \t 1\n",
      "22.) tensor([-9.3202,  0.4772,  7.5526]) \t 2 \t 2\n",
      "23.) tensor([-4.1860,  5.7345, -5.4112]) \t 1 \t 1\n",
      "24.) tensor([-8.2516,  2.4076,  3.6049]) \t 2 \t 2\n",
      "25.) tensor([-4.8403,  4.0875, -2.2417]) \t 1 \t 1\n",
      "26.) tensor([-9.8674,  1.4636,  6.5724]) \t 2 \t 2\n",
      "27.) tensor([-2.9893,  5.2745, -5.7970]) \t 1 \t 1\n",
      "28.) tensor([-8.3701,  3.3010,  2.2961]) \t 1 \t 2\n",
      "29.) tensor([-10.4875,   0.1746,   8.9538]) \t 2 \t 2\n",
      "number of correct things is 28 \n"
     ]
    }
   ],
   "source": [
    "## Test model on x_test\n",
    "\n",
    "counter = 0\n",
    "with torch.no_grad():\n",
    "    for i, data in enumerate(x_test):\n",
    "\n",
    "        y_val = model.forward(data)\n",
    "        print(f'{i}.) {y_val} \\t {y_val.argmax().item()} \\t {y_test[i]}')\n",
    "\n",
    "        if y_val.argmax().item() == y_test[i]:\n",
    "            counter += 1\n",
    "        \n",
    "    print(f'number of correct things is {counter} ')"
   ]
  },
  {
   "cell_type": "code",
   "execution_count": 294,
   "metadata": {},
   "outputs": [
    {
     "name": "stdout",
     "output_type": "stream",
     "text": [
      "0\n"
     ]
    }
   ],
   "source": [
    "# Mock data point\n",
    "\n",
    "new_iris = torch.tensor([4.7, 3.2, 1.3, 0.2])\n",
    "\n",
    "with torch.no_grad() :\n",
    "    ypred = model.forward(new_iris)\n",
    "\n",
    "    print(ypred.argmax().item())"
   ]
  },
  {
   "cell_type": "code",
   "execution_count": 295,
   "metadata": {},
   "outputs": [],
   "source": [
    "## Save model\n",
    "\n",
    "torch.save(model.state_dict() , 'irisModel.pt')"
   ]
  },
  {
   "cell_type": "code",
   "execution_count": null,
   "metadata": {},
   "outputs": [],
   "source": []
  }
 ],
 "metadata": {
  "kernelspec": {
   "display_name": ".venv",
   "language": "python",
   "name": "python3"
  },
  "language_info": {
   "codemirror_mode": {
    "name": "ipython",
    "version": 3
   },
   "file_extension": ".py",
   "mimetype": "text/x-python",
   "name": "python",
   "nbconvert_exporter": "python",
   "pygments_lexer": "ipython3",
   "version": "3.11.1"
  }
 },
 "nbformat": 4,
 "nbformat_minor": 2
}
